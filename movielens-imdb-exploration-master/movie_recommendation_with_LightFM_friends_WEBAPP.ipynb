{
 "cells": [
  {
   "cell_type": "markdown",
   "metadata": {},
   "source": [
    "# Siamese Neural Network Recommendation for Friends (for Website)"
   ]
  },
  {
   "cell_type": "markdown",
   "metadata": {},
   "source": [
    "This notebook presents the final code that will be used for the Movinder [website](https://movinder.herokuapp.com/) when `Get recommendation with SiameseNN!` is selected by user."
   ]
  },
  {
   "cell_type": "code",
   "execution_count": 1,
   "metadata": {},
   "outputs": [],
   "source": [
    "import pandas as pd\n",
    "import json\n",
    "import datetime, time\n",
    "from sklearn.model_selection import train_test_split\n",
    "import itertools\n",
    "import os\n",
    "import zipfile\n",
    "import random\n",
    "import numpy as np\n",
    "\n",
    "import requests\n",
    "import matplotlib.pyplot as plt\n",
    "\n",
    "import scipy.sparse as sp\n",
    "from sklearn.metrics import roc_auc_score"
   ]
  },
  {
   "cell_type": "markdown",
   "metadata": {},
   "source": [
    "---"
   ]
  },
  {
   "cell_type": "markdown",
   "metadata": {},
   "source": [
    "## (1) Read data"
   ]
  },
  {
   "cell_type": "code",
   "execution_count": 2,
   "metadata": {},
   "outputs": [],
   "source": [
    "movies = json.load(open('movies.json'))\n",
    "friends = json.load(open('friends.json'))\n",
    "ratings = json.load(open('ratings.json')) \n",
    "soup_movie_features = sp.load_npz('soup_movie_features_11.npz')\n",
    "soup_movie_features = soup_movie_features.toarray()"
   ]
  },
  {
   "cell_type": "markdown",
   "metadata": {},
   "source": [
    "## (1.2) Simulate new friend's input"
   ]
  },
  {
   "cell_type": "markdown",
   "metadata": {},
   "source": [
    "The new group of friends will need to provide information that will be later used for training the model and predicting the ratings they will give to other movies. The friends will have a new id `new_friend_id`. They will provide a rating specified in the dictionary with the following keys: `movie_id_ml` (id of the movie rated), `rating` (rating of that movie on the scale from 1 to 5), and `friend_id` that will be the friends id specified as `new_friend_id`. In addition to this rating information, the users will have to provide to the system the information that includes their average age in the group `friends_age` and gender `friends_gender`."
   ]
  },
  {
   "cell_type": "code",
   "execution_count": 3,
   "metadata": {},
   "outputs": [],
   "source": [
    "new_friend_id = len(friends)"
   ]
  },
  {
   "cell_type": "code",
   "execution_count": 4,
   "metadata": {},
   "outputs": [
    {
     "data": {
      "text/plain": [
       "[{'movie_id_ml': 302.0, 'rating': 4.0, 'friend_id': 191},\n",
       " {'movie_id_ml': 304.0, 'rating': 4.0, 'friend_id': 191},\n",
       " {'movie_id_ml': 307.0, 'rating': 4.0, 'friend_id': 191}]"
      ]
     },
     "execution_count": 4,
     "metadata": {},
     "output_type": "execute_result"
    }
   ],
   "source": [
    "new_ratings = [{'movie_id_ml': 302.0, 'rating': 4.0, 'friend_id': new_friend_id},\n",
    "              {'movie_id_ml': 304.0, 'rating': 4.0, 'friend_id': new_friend_id},\n",
    "              {'movie_id_ml': 307.0, 'rating': 4.0, 'friend_id': new_friend_id}]\n",
    "new_ratings"
   ]
  },
  {
   "cell_type": "code",
   "execution_count": 5,
   "metadata": {},
   "outputs": [
    {
     "data": {
      "text/plain": [
       "{'friend_id': 191, 'friends_age': 25.5, 'friends_gender': 0.375}"
      ]
     },
     "execution_count": 5,
     "metadata": {},
     "output_type": "execute_result"
    }
   ],
   "source": [
    "new_friend = {'friend_id': new_friend_id, 'friends_age': 25.5, 'friends_gender': 0.375}\n",
    "new_friend"
   ]
  },
  {
   "cell_type": "code",
   "execution_count": 6,
   "metadata": {},
   "outputs": [],
   "source": [
    "# extend the existing data with this new information\n",
    "friends.append(new_friend)\n",
    "ratings.extend(new_ratings)"
   ]
  },
  {
   "cell_type": "markdown",
   "metadata": {},
   "source": [
    "---"
   ]
  },
  {
   "cell_type": "markdown",
   "metadata": {},
   "source": [
    "## (2) Train the LightFM Model"
   ]
  },
  {
   "cell_type": "markdown",
   "metadata": {},
   "source": [
    "We will be using the [LightFM](http://lyst.github.io/lightfm/docs/index.html) implementation of SiameseNN to train our model using the user and item (i.e. movie) features. First, we create `scipy.sparse` matrices from raw data and they can be used to fit the LightFM model."
   ]
  },
  {
   "cell_type": "code",
   "execution_count": 7,
   "metadata": {},
   "outputs": [],
   "source": [
    "from lightfm.data import Dataset\n",
    "from lightfm import LightFM\n",
    "from lightfm.evaluation import precision_at_k\n",
    "from lightfm.evaluation import auc_score"
   ]
  },
  {
   "cell_type": "markdown",
   "metadata": {},
   "source": [
    "## (2.1) Build ID mappings"
   ]
  },
  {
   "cell_type": "markdown",
   "metadata": {},
   "source": [
    "We create a mapping between the user and item ids from our input data to indices that will be internally used by this model. This needs to be done since the LightFM works with user and items ids that are consecutive non-negative integers. Using `dataset.fit` we assign internal numerical id to every user and item we passed in."
   ]
  },
  {
   "cell_type": "code",
   "execution_count": 8,
   "metadata": {},
   "outputs": [],
   "source": [
    "dataset = Dataset()\n",
    "\n",
    "item_str_for_eval = \"x['title'],x['release'], x['unknown'], x['action'], x['adventure'],x['animation'], x['childrens'], x['comedy'], x['crime'], x['documentary'], x['drama'],  x['fantasy'], x['noir'], x['horror'], x['musical'],x['mystery'], x['romance'], x['scifi'], x['thriller'], x['war'], x['western'], *soup_movie_features[x['soup_id']]\"\n",
    "friend_str_for_eval = \"x['friends_age'], x['friends_gender']\"\n",
    "\n"
   ]
  },
  {
   "cell_type": "code",
   "execution_count": 9,
   "metadata": {},
   "outputs": [
    {
     "name": "stdout",
     "output_type": "stream",
     "text": [
      "Mappings - Num friends: 192, num_items 1251.\n"
     ]
    }
   ],
   "source": [
    "dataset.fit(users=(int(x['friend_id']) for x in friends),\n",
    "            items=(int(x['movie_id_ml']) for x in movies),\n",
    "            item_features=(eval(\"(\"+item_str_for_eval+\")\") for x in movies),\n",
    "            user_features=((eval(friend_str_for_eval)) for x in friends))\n",
    "\n",
    "num_friends, num_items = dataset.interactions_shape()\n",
    "print(f'Mappings - Num friends: {num_friends}, num_items {num_items}.')"
   ]
  },
  {
   "cell_type": "markdown",
   "metadata": {},
   "source": [
    "## (2.2) Build the interactions and feature matrices"
   ]
  },
  {
   "cell_type": "markdown",
   "metadata": {},
   "source": [
    "The `interactions` matrix contains interactions between `friend_id` and `movie_id_ml`. It puts 1 if friends `friend_id` rated movie `movie_id_ml`, and 0 otherwise."
   ]
  },
  {
   "cell_type": "code",
   "execution_count": 10,
   "metadata": {},
   "outputs": [
    {
     "name": "stdout",
     "output_type": "stream",
     "text": [
      "<192x1251 sparse matrix of type '<class 'numpy.int32'>'\n",
      "\twith 59123 stored elements in COOrdinate format>\n"
     ]
    }
   ],
   "source": [
    "(interactions, weights) = dataset.build_interactions(((int(x['friend_id']), int(x['movie_id_ml']))\n",
    "                                                      for x in ratings))\n",
    "\n",
    "print(repr(interactions))"
   ]
  },
  {
   "cell_type": "markdown",
   "metadata": {},
   "source": [
    "The `item_features` is also a sparse matrix that contains movie ids with their corresponding features. In the item features, we include the following features: movie title, when it was released, all genres it belongs to, and vectorized representation of movie keywords, cast members, and countries it was released in."
   ]
  },
  {
   "cell_type": "code",
   "execution_count": 11,
   "metadata": {},
   "outputs": [
    {
     "name": "stdout",
     "output_type": "stream",
     "text": [
      "<1251x2487 sparse matrix of type '<class 'numpy.float32'>'\n",
      "\twith 2502 stored elements in Compressed Sparse Row format>\n"
     ]
    }
   ],
   "source": [
    "item_features = dataset.build_item_features(((x['movie_id_ml'], \n",
    "                                              [eval(\"(\"+item_str_for_eval+\")\")]) for x in movies) )\n",
    "print(repr(item_features))"
   ]
  },
  {
   "cell_type": "markdown",
   "metadata": {},
   "source": [
    "The `user_features` is also a sparse matrix that contains movie ids with their corresponding features. The user features include their age, and gender."
   ]
  },
  {
   "cell_type": "code",
   "execution_count": 12,
   "metadata": {},
   "outputs": [
    {
     "name": "stdout",
     "output_type": "stream",
     "text": [
      "<192x342 sparse matrix of type '<class 'numpy.float32'>'\n",
      "\twith 384 stored elements in Compressed Sparse Row format>\n"
     ]
    }
   ],
   "source": [
    "user_features = dataset.build_user_features(((x['friend_id'], \n",
    "                                              [eval(friend_str_for_eval)]) for x in friends) )\n",
    "print(repr(user_features))"
   ]
  },
  {
   "cell_type": "markdown",
   "metadata": {},
   "source": [
    "## (2.3) Building a model"
   ]
  },
  {
   "cell_type": "markdown",
   "metadata": {},
   "source": [
    "After some hyperparameters tuning, we end up to having the best model performance with the following values:\n",
    "\n",
    "- Epocks = 150\n",
    "- Learning rate = 0.015\n",
    "- Max sampled = 11\n",
    "- Loss type = WARP\n",
    "\n",
    "References:\n",
    "- The WARP (Weighted Approximate-Rank Pairwise) lso for implicit feedback learning-rank. Originally implemented in [WSABIE paper](http://www.thespermwhale.com/jaseweston/papers/wsabie-ijcai.pdf).\n",
    "- Extension to apply to recommendation settings in the 2013 k-order statistic loss [paper](http://www.ee.columbia.edu/~ronw/pubs/recsys2013-kaos.pdf) in the form of the k-OS WARP loss, also implemented in LightFM."
   ]
  },
  {
   "cell_type": "code",
   "execution_count": 13,
   "metadata": {},
   "outputs": [
    {
     "name": "stdout",
     "output_type": "stream",
     "text": [
      "Precision: 0.9588541984558105, AUC: 0.9013209342956543\n"
     ]
    }
   ],
   "source": [
    "epochs = 150\n",
    "lr = 0.015\n",
    "max_sampled = 11\n",
    "\n",
    "loss_type = \"warp\"  # \"bpr\"\n",
    "\n",
    "\n",
    "model = LightFM(learning_rate=lr, loss=loss_type, max_sampled=max_sampled)\n",
    "\n",
    "model.fit_partial(interactions, epochs=epochs, user_features=user_features, item_features=item_features)\n",
    "train_precision = precision_at_k(model, interactions, k=10, user_features=user_features, item_features=item_features).mean()\n",
    "\n",
    "train_auc = auc_score(model, interactions, user_features=user_features, item_features=item_features).mean()\n",
    "\n",
    "print(f'Precision: {train_precision}, AUC: {train_auc}')\n"
   ]
  },
  {
   "cell_type": "code",
   "execution_count": 14,
   "metadata": {},
   "outputs": [],
   "source": [
    "def predict_top_k_movies(model, friends_id, k):\n",
    "    n_users, n_movies = train.shape\n",
    "    if use_features:\n",
    "        prediction = model.predict(friends_id, np.arange(n_movies), user_features=friends_features, item_features=item_features)#predict(model, user_id, np.arange(n_movies))\n",
    "    else:\n",
    "        prediction = model.predict(friends_id, np.arange(n_movies))#predict(model, user_id, np.arange(n_movies))\n",
    "    \n",
    "    movie_ids = np.arange(train.shape[1])\n",
    "    return movie_ids[np.argsort(-prediction)][:k]"
   ]
  },
  {
   "cell_type": "code",
   "execution_count": 15,
   "metadata": {},
   "outputs": [],
   "source": [
    "dfm = pd.DataFrame(movies)\n",
    "dfm = dfm.sort_values(by=\"movie_id_ml\")"
   ]
  },
  {
   "cell_type": "code",
   "execution_count": 16,
   "metadata": {},
   "outputs": [
    {
     "name": "stdout",
     "output_type": "stream",
     "text": [
      "(1251,)\n",
      "Friends 191\n",
      "     Known positives:\n",
      "        301 | in & out\n",
      "        302 | l.a. confidential\n",
      "        307 | the devil's advocate\n",
      "     Recommended:\n",
      "        48 | hoop dreams\n",
      "        292 | rosewood\n",
      "        255 | my best friend's wedding\n",
      "        286 | the english patient\n",
      "        284 | tin cup\n",
      "        299 | hoodlum\n",
      "        125 | phenomenon\n",
      "        1 | toy story\n",
      "        315 | apt pupil\n",
      "        7 | twelve monkeys\n"
     ]
    }
   ],
   "source": [
    "k = 10\n",
    "friends_id = new_friend_id\n",
    "movie_ids = np.array(dfm.movie_id_ml.unique())#np.array(list(df_movies.movie_id_ml.unique())) #np.arange(interactions.shape[1])\n",
    "print(movie_ids.shape)\n",
    "\n",
    "n_users, n_items = interactions.shape\n",
    "\n",
    "scores = model.predict(friends_id, np.arange(n_items), user_features=user_features, item_features=item_features)\n",
    "# scores = model.predict(friends_id, np.arange(n_items))\n",
    "\n",
    "known_positives = movie_ids[interactions.tocsr()[friends_id].indices]\n",
    "top_items = movie_ids[np.argsort(-scores)]\n",
    "\n",
    "print(f\"Friends {friends_id}\")\n",
    "print(\"     Known positives:\")\n",
    "\n",
    "for x in known_positives[:k]:\n",
    "    print(f\"        {x} | {dfm[dfm.movie_id_ml==x]['title'].iloc[0]}\" )\n",
    "    \n",
    "print(\"     Recommended:\")\n",
    "for x in top_items[:k]:\n",
    "    print(f\"        {x} | {dfm[dfm.movie_id_ml==x]['title'].iloc[0]}\" )"
   ]
  },
  {
   "cell_type": "markdown",
   "metadata": {},
   "source": [
    "This is an example of recommended movies output that will be used in the website to give users a movie recommendation based on the information they supplied to the model.\n",
    "\n",
    "Movinder website: [https://movinder.herokuapp.com/](https://movinder.herokuapp.com/)."
   ]
  },
  {
   "cell_type": "code",
   "execution_count": null,
   "metadata": {},
   "outputs": [],
   "source": []
  }
 ],
 "metadata": {
  "kernelspec": {
   "display_name": "Python 3",
   "language": "python",
   "name": "python3"
  },
  "language_info": {
   "codemirror_mode": {
    "name": "ipython",
    "version": 3
   },
   "file_extension": ".py",
   "mimetype": "text/x-python",
   "name": "python",
   "nbconvert_exporter": "python",
   "pygments_lexer": "ipython3",
   "version": "3.6.8"
  }
 },
 "nbformat": 4,
 "nbformat_minor": 2
}
